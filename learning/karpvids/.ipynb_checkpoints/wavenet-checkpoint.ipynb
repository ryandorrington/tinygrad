{
 "cells": [
  {
   "cell_type": "code",
   "execution_count": 6,
   "id": "e2bc4401-ab29-45d3-ba2e-83845ebdbd5c",
   "metadata": {},
   "outputs": [],
   "source": [
    "import os\n",
    "\n",
    "from tinygrad import Context, nn, Tensor\n",
    "\n",
    "import matplotlib.pyplot as plt # for making figures\n",
    "%matplotlib inline\n",
    "\n",
    "os.environ['METAL_XCODE'] = '1'\n",
    "os.environ['DISABLE_COMPILER_CACHE'] = '1'\n"
   ]
  },
  {
   "cell_type": "code",
   "execution_count": 56,
   "id": "de9335a3-b829-4f02-a5e0-53988830e0a8",
   "metadata": {},
   "outputs": [
    {
     "name": "stdout",
     "output_type": "stream",
     "text": [
      "['aaren', 'aarika', 'aaron', 'aartjan', 'abagael']\n"
     ]
    },
    {
     "data": {
      "text/plain": [
       "8604"
      ]
     },
     "execution_count": 56,
     "metadata": {},
     "output_type": "execute_result"
    }
   ],
   "source": [
    "words = open('names.txt', 'r').read().splitlines()\n",
    "words = [word.lower() for word in words]\n",
    "\n",
    "print(words[:5])\n",
    "len(words)"
   ]
  },
  {
   "cell_type": "code",
   "execution_count": 54,
   "id": "20c8ffa9-31fc-4626-9988-f61f1470d0e4",
   "metadata": {},
   "outputs": [
    {
     "name": "stdout",
     "output_type": "stream",
     "text": [
      "{0: '.', 1: ' ', 2: '-', 3: 'a', 4: 'b', 5: 'c', 6: 'd', 7: 'e', 8: 'f', 9: 'g', 10: 'h', 11: 'i', 12: 'j', 13: 'k', 14: 'l', 15: 'm', 16: 'n', 17: 'o', 18: 'p', 19: 'q', 20: 'r', 21: 's', 22: 't', 23: 'u', 24: 'v', 25: 'w', 26: 'x', 27: 'y', 28: 'z'}\n"
     ]
    }
   ],
   "source": [
    "chars = sorted(list(set(''.join(words))))\n",
    "chars = chars\n",
    "chars.insert(0, '.')\n",
    "\n",
    "stoi = {s:i for i,s in enumerate(chars)}\n",
    "itos = {i:s for s,i in stoi.items()}\n",
    "print(itos)"
   ]
  },
  {
   "cell_type": "code",
   "execution_count": 38,
   "id": "6887d650-4f0e-43d6-964f-a7a36a98fc13",
   "metadata": {},
   "outputs": [
    {
     "name": "stdout",
     "output_type": "stream",
     "text": [
      "Aaren\n"
     ]
    },
    {
     "ename": "KeyError",
     "evalue": "'A'",
     "output_type": "error",
     "traceback": [
      "\u001b[0;31m---------------------------------------------------------------------------\u001b[0m",
      "\u001b[0;31mKeyError\u001b[0m                                  Traceback (most recent call last)",
      "Cell \u001b[0;32mIn[38], line 9\u001b[0m\n\u001b[1;32m      7\u001b[0m context \u001b[38;5;241m=\u001b[39m [\u001b[38;5;241m0\u001b[39m] \u001b[38;5;241m*\u001b[39m block_size\n\u001b[1;32m      8\u001b[0m \u001b[38;5;28;01mfor\u001b[39;00m ch \u001b[38;5;129;01min\u001b[39;00m w \u001b[38;5;241m+\u001b[39m \u001b[38;5;124m'\u001b[39m\u001b[38;5;124m.\u001b[39m\u001b[38;5;124m'\u001b[39m:\n\u001b[0;32m----> 9\u001b[0m     ix \u001b[38;5;241m=\u001b[39m \u001b[43mstoi\u001b[49m\u001b[43m[\u001b[49m\u001b[43mch\u001b[49m\u001b[43m]\u001b[49m\n\u001b[1;32m     10\u001b[0m     X\u001b[38;5;241m.\u001b[39mappend(context)\n\u001b[1;32m     11\u001b[0m     Y\u001b[38;5;241m.\u001b[39mappend(ix)\n",
      "\u001b[0;31mKeyError\u001b[0m: 'A'"
     ]
    }
   ],
   "source": [
    "# build the dataset\n",
    "block_size = 3\n",
    "X, Y = [], []\n",
    "\n",
    "for w in words[:5]:\n",
    "    print(w)\n",
    "    context = [0] * block_size\n",
    "    for ch in w + '.':\n",
    "        ix = stoi[ch]\n",
    "        X.append(context)\n",
    "        Y.append(ix)\n",
    "        print(''.join(itos[i] for i in context), '--->', itos[ix])\n",
    "        context = context[1:] + [ix] # crop and append\n",
    "\n",
    "X, Y = Tensor(X), Tensor(Y)\n",
    "print(X.numpy())\n",
    "        "
   ]
  },
  {
   "cell_type": "code",
   "execution_count": 14,
   "id": "af9a0b80-6f62-41ba-a2e6-a1a27c8e8beb",
   "metadata": {},
   "outputs": [
    {
     "name": "stdout",
     "output_type": "stream",
     "text": [
      "(1, 3, 30)\n",
      "[[[ 0.02570898  0.01273751 -0.00505794  0.00104438  0.00435958\n",
      "   -0.00640763 -0.01684961 -0.02107666  0.02454419  0.02040193\n",
      "   -0.00490187 -0.01910722 -0.00689032 -0.01183859  0.01786441\n",
      "    0.02550405 -0.0059565   0.00888569  0.00532106  0.01989581\n",
      "   -0.0186772   0.00861839  0.01404424 -0.00174748  0.01924885\n",
      "   -0.00947596  0.01889221 -0.01627261 -0.01842198 -0.01541031]\n",
      "  [ 0.02570898  0.01273751 -0.00505794  0.00104438  0.00435958\n",
      "   -0.00640763 -0.01684961 -0.02107666  0.02454419  0.02040193\n",
      "   -0.00490187 -0.01910722 -0.00689032 -0.01183859  0.01786441\n",
      "    0.02550405 -0.0059565   0.00888569  0.00532106  0.01989581\n",
      "   -0.0186772   0.00861839  0.01404424 -0.00174748  0.01924885\n",
      "   -0.00947596  0.01889221 -0.01627261 -0.01842198 -0.01541031]\n",
      "  [-0.02156249  0.00050719 -0.02023574  0.0128826   0.01129453\n",
      "   -0.02353395 -0.01718904 -0.02023494 -0.02292015  0.00753255\n",
      "   -0.01996948  0.00961194  0.00624077 -0.01276817  0.00449075\n",
      "   -0.01909104  0.00615641 -0.02478798 -0.02412384 -0.00962395\n",
      "   -0.02235068 -0.01673754 -0.01995054  0.01511616 -0.01663115\n",
      "    0.00166295 -0.00870502 -0.0070299  -0.00753621 -0.01031657]]]\n"
     ]
    }
   ],
   "source": [
    "emb = nn.Embedding(len(words), 30)\n",
    "print(emb(Tensor([1,1,4])).numpy().shape)\n",
    "print(emb(Tensor([1,1,4])).numpy())"
   ]
  },
  {
   "cell_type": "code",
   "execution_count": null,
   "id": "596c61b2-f65a-46bf-9517-58699c60e3d5",
   "metadata": {},
   "outputs": [],
   "source": []
  }
 ],
 "metadata": {
  "kernelspec": {
   "display_name": "Python (system)",
   "language": "python",
   "name": "system-python"
  },
  "language_info": {
   "codemirror_mode": {
    "name": "ipython",
    "version": 3
   },
   "file_extension": ".py",
   "mimetype": "text/x-python",
   "name": "python",
   "nbconvert_exporter": "python",
   "pygments_lexer": "ipython3",
   "version": "3.11.6"
  }
 },
 "nbformat": 4,
 "nbformat_minor": 5
}
