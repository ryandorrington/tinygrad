{
 "cells": [
  {
   "cell_type": "code",
   "execution_count": null,
   "id": "f284890c-773c-4d31-9664-91b040de4dbe",
   "metadata": {},
   "outputs": [],
   "source": [
    "import os\n",
    "from tinygrad import Context\n",
    "import matplotlib.pyplot as plt # for making figures\n",
    "%matplotlib inline\n",
    "\n",
    "os.environ['METAL_XCODE'] = '1'\n",
    "os.environ['DISABLE_COMPILER_CACHE'] = '1'\n"
   ]
  },
  {
   "cell_type": "code",
   "execution_count": null,
   "id": "b15571f0-5b39-4293-a43d-fab88360b6db",
   "metadata": {},
   "outputs": [],
   "source": []
  }
 ],
 "metadata": {
  "kernelspec": {
   "display_name": "Python (system)",
   "language": "python",
   "name": "system-python"
  },
  "language_info": {
   "codemirror_mode": {
    "name": "ipython",
    "version": 3
   },
   "file_extension": ".py",
   "mimetype": "text/x-python",
   "name": "python",
   "nbconvert_exporter": "python",
   "pygments_lexer": "ipython3",
   "version": "3.11.6"
  }
 },
 "nbformat": 4,
 "nbformat_minor": 5
}
