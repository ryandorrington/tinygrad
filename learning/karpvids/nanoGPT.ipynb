{
 "cells": [
  {
   "cell_type": "code",
   "execution_count": 32,
   "id": "ffb9f226-b528-468c-89ed-a12dd9e7ba3c",
   "metadata": {},
   "outputs": [],
   "source": [
    "import os\n",
    "\n",
    "from tinygrad import Context, nn, Tensor\n",
    "from tinygrad.nn.optim import AdamW\n",
    "from tinygrad import dtypes\n",
    "\n",
    "import matplotlib.pyplot as plt # for making figures\n",
    "%matplotlib inline\n",
    "\n",
    "os.environ['METAL_XCODE'] = '1'\n",
    "os.environ['DISABLE_COMPILER_CACHE'] = '1'"
   ]
  },
  {
   "cell_type": "code",
   "execution_count": 33,
   "id": "05278a4f-5e04-4259-8d8d-70d41a0addb0",
   "metadata": {},
   "outputs": [
    {
     "name": "stdout",
     "output_type": "stream",
     "text": [
      "First Citizen:\n",
      "Befor\n"
     ]
    },
    {
     "data": {
      "text/plain": [
       "1115394"
      ]
     },
     "execution_count": 33,
     "metadata": {},
     "output_type": "execute_result"
    }
   ],
   "source": [
    "text = open('shakespeare.txt', 'r').read()\n",
    "\n",
    "print(text[:20])\n",
    "len(text)"
   ]
  },
  {
   "cell_type": "code",
   "execution_count": 34,
   "id": "f21e2b2f-d5da-411a-ab93-0e8f2a188bb7",
   "metadata": {},
   "outputs": [
    {
     "name": "stdout",
     "output_type": "stream",
     "text": [
      "['\\n', ' ', '!', '$', '&', \"'\", ',', '-', '.', '3', ':', ';', '?', 'A', 'B', 'C', 'D', 'E', 'F', 'G', 'H', 'I', 'J', 'K', 'L', 'M', 'N', 'O', 'P', 'Q', 'R', 'S', 'T', 'U', 'V', 'W', 'X', 'Y', 'Z', 'a', 'b', 'c', 'd', 'e', 'f', 'g', 'h', 'i', 'j', 'k', 'l', 'm', 'n', 'o', 'p', 'q', 'r', 's', 't', 'u', 'v', 'w', 'x', 'y', 'z']\n",
      "65\n"
     ]
    }
   ],
   "source": [
    "chars = sorted(list(set(text)))\n",
    "vocab_size = len(chars)\n",
    "\n",
    "print(chars)\n",
    "print(vocab_size)"
   ]
  },
  {
   "cell_type": "code",
   "execution_count": 35,
   "id": "589895b4-6817-488d-9bfb-cae2706abaa8",
   "metadata": {},
   "outputs": [
    {
     "name": "stdout",
     "output_type": "stream",
     "text": [
      "[43, 52, 41, 53, 42, 43, 1, 58, 43, 57, 58]\n",
      "encode test\n"
     ]
    }
   ],
   "source": [
    "stoi = {ch:i for i,ch in enumerate(chars)}\n",
    "itos = {i:ch for i,ch in enumerate(chars)}\n",
    "encode = lambda s: [stoi[c] for c in s]\n",
    "decode = lambda l: ''.join([itos[i] for i in l])\n",
    "\n",
    "print(encode(\"encode test\"))\n",
    "print(decode(encode(\"encode test\")))"
   ]
  },
  {
   "cell_type": "code",
   "execution_count": 36,
   "id": "0deb45c8-1265-4e1f-a0f9-1a99b88c9223",
   "metadata": {},
   "outputs": [
    {
     "name": "stdout",
     "output_type": "stream",
     "text": [
      "(1115394,) dtypes.long\n",
      "[18 47 56 57 58  1 15 47 58 47 64 43 52 10  0 14 43 44 53 56 43  1 61 43\n",
      "  1 54 56 53 41 43 43 42  1 39 52 63  1 44 59 56 58 46 43 56  6  1 46 43\n",
      " 39 56  1 51 43  1 57 54 43 39 49  8  0  0 13 50 50 10  0 31 54 43 39 49\n",
      "  6  1 57 54 43 39 49  8  0  0 18 47 56 57 58  1 15 47 58 47 64 43 52 10\n",
      "  0 37 53 59  1 39 56 43  1 39 50 50  1 56 43 57 53 50 60 43 42  1 56 39\n",
      " 58 46 43 56  1 58 53  1 42 47 43  1 58 46 39 52  1 58 53  1 44 39 51 47\n",
      " 57 46 12  0  0 13 50 50 10  0 30 43 57 53 50 60 43 42  8  1 56 43 57 53\n",
      " 50 60 43 42  8  0  0 18 47 56 57 58  1 15 47 58 47 64 43 52 10  0 18 47\n",
      " 56 57 58  6  1 63 53 59  1 49 52 53 61  1 15 39 47 59 57  1 25 39 56 41\n",
      " 47 59 57  1 47 57  1 41 46 47 43 44  1 43 52 43 51 63  1 58 53  1 58 46\n",
      " 43  1 54 43 53 54 50 43  8  0  0 13 50 50 10  0 35 43  1 49 52 53 61  5\n",
      " 58  6  1 61 43  1 49 52 53 61  5 58  8  0  0 18 47 56 57 58  1 15 47 58\n",
      " 47 64 43 52 10  0 24 43 58  1 59 57]\n"
     ]
    }
   ],
   "source": [
    "data = Tensor(encode(text), dtype=dtypes.int64)\n",
    "print(data.shape, data.dtype)\n",
    "print(data[:300].numpy())"
   ]
  },
  {
   "cell_type": "code",
   "execution_count": 37,
   "id": "3f2d82fb-de02-4352-b1b5-fb3945927e24",
   "metadata": {},
   "outputs": [],
   "source": [
    "n = int(0.9*len(data)) # first 90% will be train, rest val\n",
    "train_data = data[:n]\n",
    "val_data = data[n:]"
   ]
  },
  {
   "cell_type": "code",
   "execution_count": 80,
   "id": "7ca3590d-b62d-4356-816d-cb80314c6849",
   "metadata": {},
   "outputs": [],
   "source": [
    "def stack_data(data, ix, block_size, offset):\n",
    "    ret = []\n",
    "    for i in ix:\n",
    "        data_slice = data[i.item()+offset:i.item()+block_size+offset].numpy()\n",
    "        ret.append(data_slice)\n",
    "    return Tensor(ret, dtype=dtypes.int64)"
   ]
  },
  {
   "cell_type": "code",
   "execution_count": 81,
   "id": "36aa18c0-4471-446d-b2d8-f7752ebbc430",
   "metadata": {},
   "outputs": [
    {
     "name": "stdout",
     "output_type": "stream",
     "text": [
      "inputs:\n",
      "(4, 8)\n",
      "[[58  1 40 56 43 39 49 57]\n",
      " [42  1 46 47 51  1 58 46]\n",
      " [39 59 57 43  0 14 59 58]\n",
      " [59 56  1 46 47 45 46 52]]\n",
      "targets:\n",
      "(4, 8)\n",
      "[[ 1 40 56 43 39 49 57  1]\n",
      " [ 1 46 47 51  1 58 46 39]\n",
      " [59 57 43  0 14 59 58  1]\n",
      " [56  1 46 47 45 46 52 43]]\n",
      "----\n"
     ]
    }
   ],
   "source": [
    "Tensor.manual_seed(1337)\n",
    "batch_size = 4 # how many independent sequences will we process in parallel?\n",
    "block_size = 8 # what is the maximum context length for predictions?\n",
    "\n",
    "def get_batch(split):\n",
    "    # generate a small batch of data of inputs x and targets y\n",
    "    data = train_data if split == 'train' else val_data\n",
    "    ix = Tensor.randint((batch_size,), high=len(data) - block_size)\n",
    "    x = stack_data(data, ix, block_size, offset=0)\n",
    "    y = stack_data(data, ix, block_size, offset=1)\n",
    "    return x, y\n",
    "\n",
    "xb, yb = get_batch('train')\n",
    "print('inputs:')\n",
    "print(xb.shape)\n",
    "print(xb.numpy())\n",
    "print('targets:')\n",
    "print(yb.shape)\n",
    "print(yb.numpy())\n",
    "\n",
    "print('----')\n",
    "\n",
    "# for b in range(batch_size): # batch dimension\n",
    "#     for t in range(block_size): # time dimension\n",
    "#         context = xb[b, :t+1]\n",
    "#         target = yb[b,t]\n",
    "#         print(f\"when input is {context.tolist()} the target: {target}\")"
   ]
  },
  {
   "cell_type": "code",
   "execution_count": null,
   "id": "d14e05bf-0acb-44a7-8692-8f62b0766f6b",
   "metadata": {},
   "outputs": [],
   "source": []
  },
  {
   "cell_type": "code",
   "execution_count": null,
   "id": "000514cc-4fd1-49b3-9911-524cb450ee56",
   "metadata": {},
   "outputs": [],
   "source": []
  },
  {
   "cell_type": "code",
   "execution_count": null,
   "id": "060f4de3-8c89-4347-80dd-9c008cc08580",
   "metadata": {},
   "outputs": [],
   "source": []
  }
 ],
 "metadata": {
  "kernelspec": {
   "display_name": "Python (system)",
   "language": "python",
   "name": "system-python"
  },
  "language_info": {
   "codemirror_mode": {
    "name": "ipython",
    "version": 3
   },
   "file_extension": ".py",
   "mimetype": "text/x-python",
   "name": "python",
   "nbconvert_exporter": "python",
   "pygments_lexer": "ipython3",
   "version": "3.11.6"
  }
 },
 "nbformat": 4,
 "nbformat_minor": 5
}
